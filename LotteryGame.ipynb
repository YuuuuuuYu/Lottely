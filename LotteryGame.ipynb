{
  "nbformat": 4,
  "nbformat_minor": 0,
  "metadata": {
    "colab": {
      "provenance": []
    },
    "kernelspec": {
      "name": "python3",
      "display_name": "Python 3"
    },
    "language_info": {
      "name": "python"
    }
  },
  "cells": [
    {
      "cell_type": "markdown",
      "source": [
        "통계 방법\n",
        "1. 회차별 보너스 포함 당첨번호를 집계해서 최근 2주간, 최근 3개월간 등 원하는 기간 내에 당첨번호가 몇개 나오는지 통계\n",
        "2. 번호별로 당첨이 몇번 됐는지 확인\n",
        "\n",
        "번호뽑기\n",
        "1. 각 번호는 당첨횟수만큼 백분율로 환산하여 가중치를 갖는다. (번호가중치)\n",
        "\n",
        "ex) 100% 중에서 0부터 0.01은 번호 1,\n",
        "    0.01부터 0.02는 번호 2를 가리킨다\n",
        "\n",
        "2. 최근 한달간, 최근 3개월간, 최근 6개월간의 당첨번호를 통계내어\n",
        "1-9, 10-19, 20-29, 30-39, 40-45 각 구간의 백분율로 환산된만큼 가중치를 갖는다. (기간가중치)\n",
        "\n",
        "ex) 100% 중에서 0부터 0.1은 1-9 구간,\n",
        "0.1부터 0.3은 10-19 구간을 가리킨다\n",
        "\n",
        "3. 번호를 뽑을 때 0과 1사이의 랜덤값에 번호뽑기 1,2번에서 나온 가중치를 반영하여 번호를 뽑고 이 과정으로 총 6개의 번호를 뽑는다.\n",
        "\n",
        "4. 이 스크립트는 입력값 n을 받고 n만큼 번호를 뽑을 수 있다.\n",
        "6개의 번호를 n번 뽑는 것이다."
      ],
      "metadata": {
        "id": "rQoe6E2x1ZOS"
      }
    },
    {
      "cell_type": "code",
      "execution_count": null,
      "metadata": {
        "colab": {
          "base_uri": "https://localhost:8080/"
        },
        "id": "mid8ztgzqZPH",
        "outputId": "5c9e7446-6dbd-42a1-8d30-4194bc97dd19"
      },
      "outputs": [
        {
          "output_type": "stream",
          "name": "stdout",
          "text": [
            "Requirement already satisfied: requests in /usr/local/lib/python3.10/dist-packages (2.32.3)\n",
            "Requirement already satisfied: beautifulsoup4 in /usr/local/lib/python3.10/dist-packages (4.12.3)\n",
            "Requirement already satisfied: charset-normalizer<4,>=2 in /usr/local/lib/python3.10/dist-packages (from requests) (3.4.0)\n",
            "Requirement already satisfied: idna<4,>=2.5 in /usr/local/lib/python3.10/dist-packages (from requests) (3.10)\n",
            "Requirement already satisfied: urllib3<3,>=1.21.1 in /usr/local/lib/python3.10/dist-packages (from requests) (2.2.3)\n",
            "Requirement already satisfied: certifi>=2017.4.17 in /usr/local/lib/python3.10/dist-packages (from requests) (2024.12.14)\n",
            "Requirement already satisfied: soupsieve>1.2 in /usr/local/lib/python3.10/dist-packages (from beautifulsoup4) (2.6)\n"
          ]
        }
      ],
      "source": [
        "pip install requests beautifulsoup4"
      ]
    },
    {
      "cell_type": "markdown",
      "source": [
        "# 최근 회차까지의 데이터셋 저장"
      ],
      "metadata": {
        "id": "OBpXmxvt2AZ1"
      }
    },
    {
      "cell_type": "code",
      "source": [
        "import requests\n",
        "from bs4 import BeautifulSoup\n",
        "import re\n",
        "import pandas as pd\n",
        "import math\n",
        "import random\n",
        "\n",
        "last_round = 1153\n",
        "url = \"https://dhlottery.co.kr/gameResult.do?method=allWinPrint&gubun=byWin&nowPage=&drwNoStart=1&drwNoEnd=\"+str(last_round)\n",
        "\n",
        "response = requests.get(url)\n",
        "response.encoding = 'euc-kr'  # 동행복권 사이트는 euc-kr 인코딩 사용\n",
        "html = response.text\n",
        "soup = BeautifulSoup(html, 'html.parser')\n",
        "\n",
        "table = soup.find(\"table\", {\"class\": \"tbl_data tbl_data_col\"})\n",
        "rows = table.find_all(\"tr\")[1:]  # 1행 이후부터 데이터\n",
        "\n",
        "lotto_data = []\n",
        "for row in rows:\n",
        "    cols = row.find_all(\"td\")\n",
        "    if len(cols) < 3:\n",
        "        continue\n",
        "\n",
        "    # (1) 회차\n",
        "    # \"1153회\"처럼 되어 있으면, 숫자 이외 문자는 제거하여 int 변환\n",
        "    draw_no_text = cols[0].text.strip()\n",
        "    draw_no_text = re.sub(r'[^0-9]', '', draw_no_text)  # 숫자 외 모두 제거\n",
        "    draw_no = int(draw_no_text)  # 정수 변환\n",
        "\n",
        "    # (2) 당첨번호 + 보너스번호 (하나의 리스트로 묶음)\n",
        "    # - '\\n' 제거\n",
        "    # - 숫자와 공백 외 문자는 제거\n",
        "    numbers_text = (cols[1].text+cols[2].text).strip()\n",
        "    numbers_text = re.sub(r'[^0-9\\s]', '', numbers_text) # 숫자/공백 외 제거\n",
        "\n",
        "    # 공백 기준 split → 정수화\n",
        "    all_numbers = numbers_text.split()\n",
        "    all_numbers = list(map(int, all_numbers))\n",
        "\n",
        "    lotto_data.append({\n",
        "        \"회차\": draw_no,\n",
        "        \"번호\": all_numbers\n",
        "    })\n",
        "\n",
        "# 판다스 DataFrame으로 변환\n",
        "df = pd.DataFrame(lotto_data)"
      ],
      "metadata": {
        "id": "UqiCKClHqall"
      },
      "execution_count": null,
      "outputs": []
    },
    {
      "cell_type": "code",
      "source": [
        "import matplotlib\n",
        "import matplotlib.pyplot as plt\n",
        "import matplotlib.patches as mpatches\n",
        "\n",
        "matplotlib.rcParams['font.family'] = 'DejaVu Sans'\n",
        "\n",
        "# (1) 구간별 색깔 매핑\n",
        "def get_color_for_number(num):\n",
        "    if 1 <= num <= 10:\n",
        "        return \"orange\"\n",
        "    elif 11 <= num <= 20:\n",
        "        return \"skyblue\"\n",
        "    elif 21 <= num <= 30:\n",
        "        return \"red\"\n",
        "    elif 31 <= num <= 40:\n",
        "        return \"gray\"\n",
        "    else:  # 40~45\n",
        "        return \"green\"\n",
        "\n",
        "# (2) 각 막대(bar)에 대응하는 색깔 리스트 만들기\n",
        "colors_for_bars = [get_color_for_number(num) for num in counts_series.index]\n",
        "\n",
        "# (3) 그래프 그리기\n",
        "plt.figure(figsize=(10, 6))\n",
        "plt.bar(counts_series.index, counts_series.values, color=colors_for_bars)\n",
        "\n",
        "plt.title(\"Number statistics\")\n",
        "plt.xlabel(\"Number\")\n",
        "plt.ylabel(\"Count\")\n",
        "plt.xticks(range(1, 46))\n",
        "plt.grid(axis='y', linestyle='--', alpha=0.5)\n",
        "\n",
        "plt.show()"
      ],
      "metadata": {
        "colab": {
          "base_uri": "https://localhost:8080/",
          "height": 564
        },
        "id": "PLW4gsUB3GOo",
        "outputId": "61207bf7-dbad-41b0-c6a5-29188b00ff05"
      },
      "execution_count": 62,
      "outputs": [
        {
          "output_type": "display_data",
          "data": {
            "text/plain": [
              "<Figure size 1000x600 with 1 Axes>"
            ],
            "image/png": "[encoded data removed]"
          },
          "metadata": {}
        }
      ]
    },
    {
      "cell_type": "markdown",
      "source": [
        "# 번호 가중치 계산"
      ],
      "metadata": {
        "id": "GX-tu1s12LSB"
      }
    },
    {
      "cell_type": "code",
      "source": [
        "def get_number_counts_in_range(df, start_round=None, end_round=None):\n",
        "    \"\"\"\n",
        "    df: DataFrame (회차, 번호)\n",
        "    start_round: 조회 시작 회차 (None이면 가장 처음 회차)\n",
        "    end_round: 조회 끝 회차 (None이면 가장 마지막 회차)\n",
        "\n",
        "    return: {번호: 출현 횟수} 딕셔너리\n",
        "    \"\"\"\n",
        "    # 회차 범위 지정 (None이면 전체 범위 중 최소~최대)\n",
        "    if start_round is None:\n",
        "        start_round = df[\"회차\"].min()\n",
        "    if end_round is None:\n",
        "        end_round = df[\"회차\"].max()\n",
        "\n",
        "    # 해당 회차 범위 내 데이터만 필터\n",
        "    mask = (df[\"회차\"] >= start_round) & (df[\"회차\"] <= end_round)\n",
        "    sub_df = df[mask]\n",
        "\n",
        "    # 번호별 출현 횟수 계산\n",
        "    from collections import defaultdict\n",
        "    number_counts = defaultdict(int)\n",
        "\n",
        "    for _, row in sub_df.iterrows():\n",
        "        # row[\"번호\"]는 7개(당첨번호6 + 보너스1)\n",
        "        for num in row[\"번호\"]:\n",
        "            number_counts[num] += 1\n",
        "\n",
        "    return dict(number_counts)\n",
        "\n",
        "def get_number_counts_total(df):\n",
        "    \"\"\"\n",
        "    df 전체를 대상으로 번호별 출현 횟수 반환\n",
        "    \"\"\"\n",
        "    return get_number_counts_in_range(df, None, None)\n",
        "\n",
        "def get_number_weights(df, start_round=None, end_round=None):\n",
        "    \"\"\"\n",
        "    start_round, end_round 범위에서\n",
        "    번호별 출현 횟수 -> 출현 비율(= 가중치)로 계산\n",
        "\n",
        "    return: {번호: 가중치} 딕셔너리 (합이 1)\n",
        "    \"\"\"\n",
        "    counts = get_number_counts_in_range(df, start_round, end_round)\n",
        "\n",
        "    # 전체 출현 횟수\n",
        "    total_count = sum(counts.values())\n",
        "    if total_count == 0:\n",
        "        # 혹시 해당 구간에 아무 데이터가 없으면 (예: 잘못된 회차)\n",
        "        # 모든 번호의 가중치를 0으로 두거나, 1/45 균등분포로 처리\n",
        "        return {n: 1/45 for n in range(1,46)}\n",
        "\n",
        "    # 번호(1~45)에 대해, 없으면 0으로 처리\n",
        "    weights = {}\n",
        "    for num in range(1, 46):\n",
        "        cnt = counts.get(num, 0)\n",
        "        weights[num] = cnt / total_count\n",
        "\n",
        "    return weights"
      ],
      "metadata": {
        "id": "bEKSyrRRsCRE"
      },
      "execution_count": null,
      "outputs": []
    },
    {
      "cell_type": "markdown",
      "source": [
        "# 기간 가중치 계산"
      ],
      "metadata": {
        "id": "vsNs-NwY2Pb_"
      }
    },
    {
      "cell_type": "code",
      "source": [
        "def get_range_counts_in_interval(df, start_round, end_round):\n",
        "    \"\"\"\n",
        "    start_round~end_round 범위에서\n",
        "    1~9, 10~19, 20~29, 30~39, 40~45 구간별 출현 횟수 반환\n",
        "\n",
        "    return: { '1~9': cnt, '10~19': cnt, '20~29': cnt, '30~39': cnt, '40~45': cnt }\n",
        "    \"\"\"\n",
        "    counts = get_number_counts_in_range(df, start_round, end_round)\n",
        "\n",
        "    # 구간 초기화\n",
        "    intervals = {\n",
        "        '1~9': 0,\n",
        "        '10~19': 0,\n",
        "        '20~29': 0,\n",
        "        '30~39': 0,\n",
        "        '40~45': 0\n",
        "    }\n",
        "\n",
        "    for num, c in counts.items():\n",
        "        if 1 <= num <= 9:\n",
        "            intervals['1~9'] += c\n",
        "        elif 10 <= num <= 19:\n",
        "            intervals['10~19'] += c\n",
        "        elif 20 <= num <= 29:\n",
        "            intervals['20~29'] += c\n",
        "        elif 30 <= num <= 39:\n",
        "            intervals['30~39'] += c\n",
        "        elif 40 <= num <= 45:\n",
        "            intervals['40~45'] += c\n",
        "\n",
        "    return intervals\n",
        "\n",
        "def get_interval_weights(df, start_round, end_round):\n",
        "    \"\"\"\n",
        "    start_round~end_round 범위에서,\n",
        "    1~9, 10~19, 20~29, 30~39, 40~45 구간별 비율 -> 번호별 기간 가중치\n",
        "\n",
        "    예) 1~9 구간이 전체 120회 중 20회라면 = 0.166..,\n",
        "        해당 구간 번호(1~9)는 기간 가중치 0.166..을 공통으로 갖음.\n",
        "\n",
        "    return: {번호: 해당 구간의 비율} (합계=1이 아님. 구간 비율이므로)\n",
        "    \"\"\"\n",
        "    intervals_count = get_range_counts_in_interval(df, start_round, end_round)\n",
        "    total = sum(intervals_count.values())\n",
        "    if total == 0:\n",
        "        # 해당 범위에 데이터가 없으면, 모든 번호 동일 취급\n",
        "        return {n: 1 for n in range(1,46)}\n",
        "\n",
        "    # 구간별 비율\n",
        "    interval_ratios = {}\n",
        "    for k in intervals_count:\n",
        "        interval_ratios[k] = intervals_count[k] / total\n",
        "\n",
        "    # 번호별로 매핑\n",
        "    interval_weight = {}\n",
        "    for num in range(1, 46):\n",
        "        if 1 <= num <= 9:\n",
        "            interval_weight[num] = interval_ratios['1~9']\n",
        "        elif 10 <= num <= 19:\n",
        "            interval_weight[num] = interval_ratios['10~19']\n",
        "        elif 20 <= num <= 29:\n",
        "            interval_weight[num] = interval_ratios['20~29']\n",
        "        elif 30 <= num <= 39:\n",
        "            interval_weight[num] = interval_ratios['30~39']\n",
        "        else:\n",
        "            interval_weight[num] = interval_ratios['40~45']\n",
        "\n",
        "    return interval_weight\n",
        "\n",
        "\n",
        "def combine_weights(num_weight, interval_weight):\n",
        "    \"\"\"\n",
        "    두 종류의 가중치(번호별 dict)를 곱한 뒤, 전체 합이 1이 되도록 정규화\n",
        "    num_weight: {번호: w1}\n",
        "    interval_weight: {번호: w2}\n",
        "    return: {번호: 최종가중치}\n",
        "    \"\"\"\n",
        "    combined = {}\n",
        "    for n in range(1, 46):\n",
        "        w1 = num_weight.get(n, 0)\n",
        "        w2 = interval_weight.get(n, 0)\n",
        "        combined[n] = w1 * w2\n",
        "\n",
        "    total = sum(combined.values())\n",
        "    # 모두 0이라면(특정 구간에 데이터가 없어서 0이 된 경우) → 균등분포\n",
        "    if math.isclose(total, 0.0):\n",
        "        return {n: 1/45 for n in range(1,46)}\n",
        "\n",
        "    # 정규화\n",
        "    for n in combined:\n",
        "        combined[n] /= total\n",
        "\n",
        "    return combined"
      ],
      "metadata": {
        "id": "2u89RJVmwUk1"
      },
      "execution_count": null,
      "outputs": []
    },
    {
      "cell_type": "code",
      "source": [
        "def pick_one_number(weight_dict):\n",
        "    \"\"\"\n",
        "    weight_dict: {번호: 가중치} (가중치 합=1)\n",
        "    0~1 난수를 발생시키고, 해당 범위에 속하는 번호를 반환\n",
        "    \"\"\"\n",
        "    r = random.random()  # 0 <= r < 1\n",
        "    cumulative = 0.0\n",
        "\n",
        "    for num, w in weight_dict.items():\n",
        "        cumulative += w\n",
        "        if r <= cumulative:\n",
        "            return num\n",
        "\n",
        "    # 혹시 부동소수점 문제 등으로 마지막에 걸리는 경우\n",
        "    return list(weight_dict.keys())[-1]\n",
        "\n",
        "def pick_six_numbers(final_weights):\n",
        "    \"\"\"\n",
        "    final_weights: {번호: 최종가중치} (1~45)\n",
        "    6개 번호를 중복 없이 뽑는다.\n",
        "    return: 오름차순 정렬된 6개의 번호 리스트\n",
        "    \"\"\"\n",
        "    picked = []\n",
        "    temp_weights = final_weights.copy()\n",
        "\n",
        "    for _ in range(6):\n",
        "        num = pick_one_number(temp_weights)\n",
        "        picked.append(num)\n",
        "        # 뽑힌 번호의 가중치를 0으로 변경\n",
        "        temp_weights[num] = 0.0\n",
        "        # 다시 합계를 구해 정규화\n",
        "        s = sum(temp_weights.values())\n",
        "        if s > 0:\n",
        "            for k in temp_weights:\n",
        "                temp_weights[k] /= s\n",
        "\n",
        "    return sorted(picked)\n",
        "\n",
        "def draw_numbers_n_times(df, n,\n",
        "                         num_weight_range=None,   # (start,end) for 번호가중치 구간\n",
        "                         interval_weight_range=None, # (start,end) for 기간가중치 구간\n",
        "                         interval_name=\"최근3개월\"):\n",
        "    \"\"\"\n",
        "    n번(각 6개씩) 뽑아서 결과를 리스트로 반환\n",
        "    num_weight_range: (start_round, end_round)\n",
        "    interval_weight_range: (start_round, end_round)\n",
        "    interval_name: 디버깅/출력용 설명\n",
        "    \"\"\"\n",
        "    # 1) 번호 가중치\n",
        "    if num_weight_range is None:\n",
        "        # 전체 범위\n",
        "        w_num = get_number_weights(df, None, None)\n",
        "    else:\n",
        "        w_num = get_number_weights(df, num_weight_range[0], num_weight_range[1])\n",
        "\n",
        "    # 2) 기간(구간) 가중치\n",
        "    if interval_weight_range is None:\n",
        "        # 예: 최근 12회 라고 가정\n",
        "        latest_round = df[\"회차\"].max()\n",
        "        start_round = latest_round - 11  # 12회 분량\n",
        "        w_interval = get_interval_weights(df, start_round, latest_round)\n",
        "    else:\n",
        "        w_interval = get_interval_weights(df, interval_weight_range[0], interval_weight_range[1])\n",
        "\n",
        "    # 3) 최종 가중치\n",
        "    final_weights = combine_weights(w_num, w_interval)\n",
        "\n",
        "    # 4) n번 뽑기\n",
        "    results = []\n",
        "    for i in range(n):\n",
        "        picked_6 = pick_six_numbers(final_weights)\n",
        "        results.append(picked_6)\n",
        "\n",
        "    # 예시 출력\n",
        "    print(f\"[{interval_name}] 번호뽑기 결과 (총 {n}번):\")\n",
        "    for idx, nums in enumerate(results, start=1):\n",
        "        print(f\"{idx}회차 뽑기: {nums}\")\n",
        "\n",
        "    return results"
      ],
      "metadata": {
        "id": "VzMeJ2Ixweaj"
      },
      "execution_count": null,
      "outputs": []
    },
    {
      "cell_type": "markdown",
      "source": [
        "# 번호 뽑기"
      ],
      "metadata": {
        "id": "0byVKDRO2UTN"
      }
    },
    {
      "cell_type": "code",
      "source": [
        "# 예: 전체 번호가중치 × 최근 12회(3개월 가정) 구간가중치\n",
        "res = draw_numbers_n_times(df, n=5,\n",
        "                           num_weight_range=None,  # 전체 범위\n",
        "                           interval_weight_range=None,  # 최근 12회\n",
        "                           interval_name=\"최근12회\")"
      ],
      "metadata": {
        "colab": {
          "base_uri": "https://localhost:8080/"
        },
        "id": "BEUK3UjWw3dC",
        "outputId": "20acf2b6-89b3-46d1-d65c-531356aecf14"
      },
      "execution_count": null,
      "outputs": [
        {
          "output_type": "stream",
          "name": "stdout",
          "text": [
            "[최근12회] 번호뽑기 결과 (총 5번):\n",
            "1회차 뽑기: [1, 5, 17, 19, 31, 33]\n",
            "2회차 뽑기: [7, 8, 9, 17, 21, 38]\n",
            "3회차 뽑기: [10, 23, 30, 31, 36, 44]\n",
            "4회차 뽑기: [7, 16, 25, 33, 39, 43]\n",
            "5회차 뽑기: [17, 29, 31, 32, 35, 37]\n"
          ]
        }
      ]
    },
    {
      "cell_type": "markdown",
      "source": [
        "# 여러 기간 가중치 합산하여 계산"
      ],
      "metadata": {
        "id": "X4UQyvTRynH9"
      }
    },
    {
      "cell_type": "code",
      "source": [
        "def get_interval_weights_multiple(df, intervals_configs):\n",
        "    \"\"\"\n",
        "    intervals_configs: 리스트 형태로, 각 요소에\n",
        "       {\n",
        "         'start_round': int,\n",
        "         'end_round': int,\n",
        "         'weight': float  # 이 구간에 부여할 가중치(예: 0.5)\n",
        "       }\n",
        "    를 담아둔다.\n",
        "\n",
        "    해당 구간들의 interval_weights를 구해 각각 weight만큼 곱해 합산한 뒤,\n",
        "    최종적으로 정규화하여 {번호: 최종기간가중치}를 반환한다.\n",
        "    \"\"\"\n",
        "\n",
        "    # (1) 일단 0으로 초기화\n",
        "    combined = {num: 0.0 for num in range(1, 46)}\n",
        "\n",
        "    # (2) 구간별로 loop\n",
        "    for cfg in intervals_configs:\n",
        "        st = cfg[\"start_round\"]\n",
        "        en = cfg[\"end_round\"]\n",
        "        w = cfg[\"weight\"]\n",
        "\n",
        "        # 2-1) 단일 구간에 대한 interval_weights 구함\n",
        "        interval_w = get_interval_weights(df, st, en)  # {번호: 구간 비율}\n",
        "\n",
        "        # 2-2) 구한 값에 weight를 곱해 combined에 누적\n",
        "        for num in range(1, 46):\n",
        "            combined[num] += interval_w[num] * w\n",
        "\n",
        "    # (3) 정규화 (합이 0이면(=모두 0이면) 균등분포 가정)\n",
        "    total = sum(combined.values())\n",
        "    if math.isclose(total, 0.0):\n",
        "        # 아무 데이터가 없다면 균등분포\n",
        "        return {n: 1/45 for n in range(1,46)}\n",
        "\n",
        "    for num in range(1, 46):\n",
        "        combined[num] /= total\n",
        "\n",
        "    return combined\n",
        "\n",
        "\n",
        "def draw_numbers_n_times_custom(df, n):\n",
        "\n",
        "    w_num = get_number_weights(df, None, None)\n",
        "\n",
        "    latest_round = df[\"회차\"].max() # 최근 1개월, 3개월, 6개월 가중치 합산\n",
        "    intervals_configs = [\n",
        "        {\"start_round\": latest_round-3, \"end_round\": latest_round, \"weight\": 0.5},   # 최근 1개월\n",
        "        {\"start_round\": latest_round-11, \"end_round\": latest_round, \"weight\": 0.3},  # 최근 3개월\n",
        "        {\"start_round\": latest_round-23, \"end_round\": latest_round, \"weight\": 0.2}   # 최근 6개월\n",
        "    ]\n",
        "    multi_interval_weight = get_interval_weights_multiple(df, intervals_configs)\n",
        "\n",
        "    final_weights = combine_weights(w_num, multi_interval_weight)\n",
        "\n",
        "    results = []\n",
        "    for i in range(n):\n",
        "        picked_6 = pick_six_numbers(final_weights)\n",
        "        results.append(picked_6)\n",
        "\n",
        "    print(f\"커스텀 번호뽑기 결과 (총 {n}번):\")\n",
        "    for idx, nums in enumerate(results, start=1):\n",
        "        print(f\"{idx}회차 뽑기: {nums}\")\n",
        "\n",
        "    return results"
      ],
      "metadata": {
        "id": "C5rNjzY5ymis"
      },
      "execution_count": null,
      "outputs": []
    },
    {
      "cell_type": "markdown",
      "source": [
        "# 여러 가중치 합산한 번호 뽑기"
      ],
      "metadata": {
        "id": "DMS6sVJG2hpN"
      }
    },
    {
      "cell_type": "code",
      "source": [
        "res = draw_numbers_n_times_custom(df, n=5)"
      ],
      "metadata": {
        "colab": {
          "base_uri": "https://localhost:8080/"
        },
        "id": "fUnPF3kLzzIj",
        "outputId": "07230704-264f-4a01-9f50-ecb9a5c143c4"
      },
      "execution_count": null,
      "outputs": [
        {
          "output_type": "stream",
          "name": "stdout",
          "text": [
            "커스텀 번호뽑기 결과 (총 5번):\n",
            "1회차 뽑기: [2, 8, 9, 40, 41, 44]\n",
            "2회차 뽑기: [22, 28, 30, 35, 38, 41]\n",
            "3회차 뽑기: [3, 8, 26, 31, 32, 37]\n",
            "4회차 뽑기: [15, 16, 18, 29, 31, 33]\n",
            "5회차 뽑기: [18, 19, 30, 31, 35, 42]\n"
          ]
        }
      ]
    }
  ]
}